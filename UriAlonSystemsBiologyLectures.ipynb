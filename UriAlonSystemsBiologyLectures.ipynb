{
 "cells": [
  {
   "cell_type": "code",
   "execution_count": 11,
   "metadata": {},
   "outputs": [],
   "source": [
    "import numpy as np\n",
    "from scipy.integrate import odeint\n",
    "import matplotlib.pyplot as plt\n",
    "%matplotlib inline"
   ]
  },
  {
   "cell_type": "markdown",
   "metadata": {},
   "source": [
    "Based on Uri Alon's youtube course on systems biology https://www.youtube.com/watch?v=Z__BHVFP0Lk&list=PL775875BB77651029\n",
    "\n",
    "\n",
    "Course premise: Biological systems can be understood in terms of principles \"design principles\" that unify different systems in a mathematical framework."
   ]
  },
  {
   "cell_type": "markdown",
   "metadata": {},
   "source": [
    "# Lecture 1"
   ]
  },
  {
   "cell_type": "code",
   "execution_count": 13,
   "metadata": {},
   "outputs": [
    {
     "data": {
      "text/plain": [
       "[<matplotlib.lines.Line2D at 0x7f8ed0a96350>]"
      ]
     },
     "execution_count": 13,
     "metadata": {},
     "output_type": "execute_result"
    },
    {
     "data": {
      "image/png": "[encoded data removed]",
      "text/plain": [
       "<Figure size 432x288 with 1 Axes>"
      ]
     },
     "metadata": {
      "needs_background": "light"
     },
     "output_type": "display_data"
    }
   ],
   "source": [
    "#useful scipy tutorial https://physics.nyu.edu/pine/pymanual/html/chap9/chap9_scipy.html\n",
    "#Also the documentation https://docs.scipy.org/doc/scipy/reference/generated/scipy.integrate.odeint.html\n",
    "def func(y,t,params):\n",
    "    x=y\n",
    "    alpha=params\n",
    "    dydt=alpha*x\n",
    "    return dydt\n",
    "    \n",
    "alpha=0.5\n",
    "y0=1\n",
    "t = np.linspace(0, 10, 101)\n",
    "soln=odeint(func, y0, t, args=(alpha,))\n",
    "\n",
    "plt.plot(soln)\n"
   ]
  },
  {
   "cell_type": "code",
   "execution_count": 14,
   "metadata": {},
   "outputs": [
    {
     "data": {
      "text/plain": [
       "[<matplotlib.lines.Line2D at 0x7f8ed0a19a10>]"
      ]
     },
     "execution_count": 14,
     "metadata": {},
     "output_type": "execute_result"
    },
    {
     "data": {
      "image/png": "[encoded data removed]",
      "text/plain": [
       "<Figure size 432x288 with 1 Axes>"
      ]
     },
     "metadata": {
      "needs_background": "light"
     },
     "output_type": "display_data"
    }
   ],
   "source": [
    "alpha=-0.5\n",
    "y0=1\n",
    "t = np.linspace(0, 10, 101)\n",
    "soln=odeint(func, y0, t, args=(alpha,))\n",
    "\n",
    "plt.plot(soln)\n",
    "\n",
    "plt.plot(soln)"
   ]
  },
  {
   "cell_type": "markdown",
   "metadata": {},
   "source": [
    "How do cells think?\n",
    "\n",
    "A cell represents the environment using about 300 internal degrees of freedom via transcription factors.\n",
    "\n",
    "There are around 4000 genes of the E. coli that make proteins. There's about 10**6 number of molecules in a cell. It follows that there are about 1000 molecular copies of each protein.\n",
    "\n",
    "Environmental signals affect regulatory proteins called transcription factors.\n",
    "\n",
    "The parts of the genomic sequence that regulates genes is called the promoter.\n",
    "\n",
    "E. Coli has a transcription network with about 300 transcription factors and about 10000 arrows. This is the brain of the cell.\n"
   ]
  },
  {
   "cell_type": "markdown",
   "metadata": {},
   "source": [
    "x->y\n",
    "\n",
    "Calculate the dynamics of the concentration of Y, e.g. its dynamics.\n",
    "\n",
    "X* is the concentration of the transcription factor. \n",
    "\n",
    "$\\beta(X*)$->production rate\n",
    "\n",
    "$\\alpha$-> removal rate\n",
    "\n",
    "$$\\frac{dY}{dt}=\\beta(X*)-\\alpha Y$$\n",
    "\n",
    "$$\\alpha=\\alpha_{degradation}-\\alpha_{dilution}$$\n",
    "\n",
    "Separation of timescales on the beta! Change in transcription factor concentration leads to an immediate change of $\\beta$"
   ]
  },
  {
   "cell_type": "code",
   "execution_count": 20,
   "metadata": {},
   "outputs": [
    {
     "ename": "TypeError",
     "evalue": "odeint() got an unexpected keyword argument 'params'",
     "output_type": "error",
     "traceback": [
      "\u001b[0;31m---------------------------------------------------------------------------\u001b[0m",
      "\u001b[0;31mTypeError\u001b[0m                                 Traceback (most recent call last)",
      "\u001b[0;32m<ipython-input-20-017cc494d153>\u001b[0m in \u001b[0;36m<module>\u001b[0;34m\u001b[0m\n\u001b[1;32m      9\u001b[0m \u001b[0mt\u001b[0m \u001b[0;34m=\u001b[0m \u001b[0mnp\u001b[0m\u001b[0;34m.\u001b[0m\u001b[0mlinspace\u001b[0m\u001b[0;34m(\u001b[0m\u001b[0;36m0\u001b[0m\u001b[0;34m,\u001b[0m \u001b[0;36m10\u001b[0m\u001b[0;34m,\u001b[0m \u001b[0;36m101\u001b[0m\u001b[0;34m)\u001b[0m\u001b[0;34m\u001b[0m\u001b[0;34m\u001b[0m\u001b[0m\n\u001b[1;32m     10\u001b[0m \u001b[0mbeta\u001b[0m\u001b[0;34m=\u001b[0m\u001b[0;36m0.7\u001b[0m\u001b[0;34m\u001b[0m\u001b[0;34m\u001b[0m\u001b[0m\n\u001b[0;32m---> 11\u001b[0;31m \u001b[0msoln\u001b[0m\u001b[0;34m=\u001b[0m\u001b[0modeint\u001b[0m\u001b[0;34m(\u001b[0m\u001b[0mchange_in_cons\u001b[0m\u001b[0;34m,\u001b[0m \u001b[0my0\u001b[0m\u001b[0;34m,\u001b[0m \u001b[0mt\u001b[0m\u001b[0;34m,\u001b[0m \u001b[0mparams\u001b[0m\u001b[0;34m=\u001b[0m\u001b[0;34m(\u001b[0m\u001b[0malpha\u001b[0m\u001b[0;34m,\u001b[0m\u001b[0mbeta\u001b[0m\u001b[0;34m)\u001b[0m\u001b[0;34m)\u001b[0m\u001b[0;34m\u001b[0m\u001b[0;34m\u001b[0m\u001b[0m\n\u001b[0m\u001b[1;32m     12\u001b[0m \u001b[0mplt\u001b[0m\u001b[0;34m.\u001b[0m\u001b[0mplot\u001b[0m\u001b[0;34m(\u001b[0m\u001b[0msoln\u001b[0m\u001b[0;34m)\u001b[0m\u001b[0;34m\u001b[0m\u001b[0;34m\u001b[0m\u001b[0m\n",
      "\u001b[0;31mTypeError\u001b[0m: odeint() got an unexpected keyword argument 'params'"
     ]
    }
   ],
   "source": [
    "def change_in_cons(y,t,params):\n",
    "    x=y\n",
    "    alpha,beta=params\n",
    "    dydt=beta-alpha*x\n",
    "    return dydt\n",
    "    \n",
    "alpha=0.5\n",
    "y0=1\n",
    "t = np.linspace(0, 10, 101)\n",
    "beta=0.7\n",
    "soln=odeint(change_in_cons, y0, t, params=(alpha,beta))\n",
    "plt.plot(soln)"
   ]
  }
 ],
 "metadata": {
  "kernelspec": {
   "display_name": "Python 3",
   "language": "python",
   "name": "python3"
  },
  "language_info": {
   "codemirror_mode": {
    "name": "ipython",
    "version": 3
   },
   "file_extension": ".py",
   "mimetype": "text/x-python",
   "name": "python",
   "nbconvert_exporter": "python",
   "pygments_lexer": "ipython3",
   "version": "3.7.4"
  }
 },
 "nbformat": 4,
 "nbformat_minor": 2
}
