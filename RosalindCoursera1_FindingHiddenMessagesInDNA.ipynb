{
 "cells": [
  {
   "cell_type": "markdown",
   "id": "9efed28d",
   "metadata": {},
   "source": [
    "# BA1A Compute the Number of Times a Pattern Appears in a Text"
   ]
  },
  {
   "cell_type": "code",
   "execution_count": null,
   "id": "d9a47314",
   "metadata": {},
   "outputs": [],
   "source": [
    "#Uses a modification of the Knuth-Morris-Pratt algorithm (O(n+m) time)\n",
    "\n",
    "def build_failure_function(pattern)\n",
    "    j=0\n",
    "    i=1\n",
    "    failure_function=[-1]*len(pattern)\n",
    "    for itr in range(len(pattern)):\n",
    "        if pattern[j]==pattern[i]:\n",
    "            failure_function[i]=j\n",
    "            i+=1\n",
    "            j+=1\n",
    "        elif j>0:\n",
    "            j = pattern[j-1]+1\n",
    "        else:\n",
    "            i+=1\n",
    "    return failure_function"
   ]
  },
  {
   "cell_type": "markdown",
   "id": "611a8bfb",
   "metadata": {},
   "source": [
    "# BA1B"
   ]
  }
 ],
 "metadata": {
  "kernelspec": {
   "display_name": "Python 3 (ipykernel)",
   "language": "python",
   "name": "python3"
  },
  "language_info": {
   "codemirror_mode": {
    "name": "ipython",
    "version": 3
   },
   "file_extension": ".py",
   "mimetype": "text/x-python",
   "name": "python",
   "nbconvert_exporter": "python",
   "pygments_lexer": "ipython3",
   "version": "3.9.13"
  }
 },
 "nbformat": 4,
 "nbformat_minor": 5
}
