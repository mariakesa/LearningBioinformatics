{
 "cells": [
  {
   "cell_type": "markdown",
   "metadata": {},
   "source": [
    "# Course 1, Week 2"
   ]
  },
  {
   "cell_type": "code",
   "execution_count": 57,
   "metadata": {},
   "outputs": [],
   "source": [
    "from Bio.Seq import Seq\n",
    "from skbio.sequence.distance import hamming\n",
    "from skbio.sequence import Sequence\n",
    "import matplotlib.pyplot as plt\n",
    "import numpy as np"
   ]
  },
  {
   "cell_type": "code",
   "execution_count": 16,
   "metadata": {},
   "outputs": [],
   "source": [
    "seq1=Sequence('CTTGAAGTGGACCTCTAGTTCCTCTACAAAGAACAGGTTGACCTGTCGCGAAG')\n",
    "seq2=Sequence('ATGCCTTACCTAGATGCAATGACGGACGTATTCCTTTTGCCTCAACGGCTCCT')"
   ]
  },
  {
   "cell_type": "code",
   "execution_count": 35,
   "metadata": {
    "scrolled": true
   },
   "outputs": [
    {
     "data": {
      "text/plain": [
       "43.0"
      ]
     },
     "execution_count": 35,
     "metadata": {},
     "output_type": "execute_result"
    }
   ],
   "source": [
    "hamming(seq1,seq2)*len(seq1)"
   ]
  },
  {
   "cell_type": "code",
   "execution_count": 53,
   "metadata": {},
   "outputs": [
    {
     "name": "stdout",
     "output_type": "stream",
     "text": [
      "50\n"
     ]
    }
   ],
   "source": [
    "def calc_hamming(seq1,seq2):\n",
    "    hamm=0\n",
    "    zp=zip(seq1,seq2)\n",
    "    for u,v in zp:\n",
    "        if u!=v:\n",
    "            hamm+=1\n",
    "    return hamm\n",
    "seq1='TGACCCGTTATGCTCGAGTTCGGTCAGAGCGTCATTGCGAGTAGTCGTTTGCTTTCTCAAACTCC'\n",
    "seq2='GAGCGATTAAGCGTGACAGCCCCAGGGAACCCACAAAACGTGATCGCAGTCCATCCGATCATACA'\n",
    "hamm=calc_hamming(seq1,seq2)\n",
    "print(hamm)"
   ]
  },
  {
   "cell_type": "code",
   "execution_count": 66,
   "metadata": {
    "scrolled": true
   },
   "outputs": [
    {
     "name": "stdout",
     "output_type": "stream",
     "text": [
      "[0, 1]\n"
     ]
    },
    {
     "data": {
      "text/plain": [
       "[<matplotlib.lines.Line2D at 0x7fc917052ad0>]"
      ]
     },
     "execution_count": 66,
     "metadata": {},
     "output_type": "execute_result"
    },
    {
     "data": {
      "image/png": "[encoded data removed]",
      "text/plain": [
       "<Figure size 432x288 with 1 Axes>"
      ]
     },
     "metadata": {
      "needs_background": "light"
     },
     "output_type": "display_data"
    }
   ],
   "source": [
    "def skew(sequence):\n",
    "    gc_skew_lst=[]\n",
    "    #G-C\n",
    "    for i in range(0,len(sequence)):\n",
    "        sub_seq=sequence[:i]\n",
    "        Gs=sub_seq.count('G')\n",
    "        Cs=sub_seq.count('C')\n",
    "        gc_skew_lst.append(Gs-Cs)\n",
    "    minimum=gc_skew_lst.index(min(gc_skew_lst))\n",
    "    mins=[i for i, letter in enumerate(gc_skew_lst) if letter == minimum]\n",
    "    return mins,gc_skew_lst\n",
    "sequence='CATTCCAGTACTTCGATGATGGCGTGAAGA'\n",
    "mins,gc_skew_lst=skew(sequence)\n",
    "print(mins)\n",
    "plt.plot(gc_skew_lst)"
   ]
  },
  {
   "cell_type": "code",
   "execution_count": 59,
   "metadata": {},
   "outputs": [
    {
     "data": {
      "text/plain": [
       "15"
      ]
     },
     "execution_count": 59,
     "metadata": {},
     "output_type": "execute_result"
    }
   ],
   "source": [
    "def approximate_count(sequence,pattern,d=2):\n",
    "    matches=0\n",
    "    for i in range(len(sequence)-len(pattern)):\n",
    "        sub=sequence[i:i+len(pattern)]\n",
    "        mismatch_score=0\n",
    "        zp=zip(sub,pattern)\n",
    "        for u,v in zp:\n",
    "            if u!=v:\n",
    "                mismatch_score+=1\n",
    "        if mismatch_score<=d:\n",
    "            matches+=1\n",
    "    return matches\n",
    "\n",
    "approximate_count('CATGCCATTCGCATTGTCCCAGTGA','CCC',2)"
   ]
  },
  {
   "cell_type": "code",
   "execution_count": null,
   "metadata": {},
   "outputs": [],
   "source": [
    "def find_all_d_kmers(sequence):\n",
    "    "
   ]
  }
 ],
 "metadata": {
  "kernelspec": {
   "display_name": "Python 3",
   "language": "python",
   "name": "python3"
  },
  "language_info": {
   "codemirror_mode": {
    "name": "ipython",
    "version": 3
   },
   "file_extension": ".py",
   "mimetype": "text/x-python",
   "name": "python",
   "nbconvert_exporter": "python",
   "pygments_lexer": "ipython3",
   "version": "3.7.7"
  }
 },
 "nbformat": 4,
 "nbformat_minor": 4
}
