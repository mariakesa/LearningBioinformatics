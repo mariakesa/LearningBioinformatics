{
 "cells": [
  {
   "cell_type": "code",
   "execution_count": 1,
   "metadata": {},
   "outputs": [],
   "source": [
    "import numpy as np"
   ]
  },
  {
   "cell_type": "markdown",
   "metadata": {},
   "source": [
    "# Counting DNA Nucleotides"
   ]
  },
  {
   "cell_type": "code",
   "execution_count": 2,
   "metadata": {
    "scrolled": true
   },
   "outputs": [
    {
     "name": "stdout",
     "output_type": "stream",
     "text": [
      "{'A': 212, 'G': 213, 'C': 206, 'T': 224}\n"
     ]
    }
   ],
   "source": [
    "DNA_string='AGCTTTTCATTCTGACTGCAACGGGCAATATGTCTCTGTGTGGATTAAAAAAAGAGTGTCTGATAGCAGC'\n",
    "DNA_string='CTTCCTCGGCATTTTGATCCTAGTACCTACTCTTACGACTACTACCCAGGAGCGCGCTGAAAGCAGCCAAGCGGACTCAAGCCTGACGAAAAGTGTGGTAGTAGCTCCTGAGTGTGGCGTCAAGGTAACGAATCCTCAATGTTTTCGTTCCGATTAAGCGCTTCCCGAGTGCCTTAGCGTCACTTGTCGCGCCTCTCCCTCTTTTTAGCAGGGGCTATGGACAGACTTAAACCATCTAGGTCAGCCAGGGGCGTCCGATTGAGTGGTGTTGCGCATGTAAGGTTAAGTTATGGTTAGGACCTGGGCTCGAAGTCCCAGGGCCTACTACGACTGAGCACGCTCCATCGGCCGATTCAATGTCGAGCGCGTGCGTGCCAACAAAAGGCTTCGTCAGGCGAACCCTATCCAGGACGGAGCTAAATTTGGCAGTGAAGGCCACTACTCCAGGAAATATATGAAATACATAATTCAAGAAAATTGTGATATATATAGATATTAATACACAAAGTGGGGTCCGGAGAGAGCCATTACTGCGCAGTTGTGCAAACTCTAGATGTTCATATGCGTAATGATTCACGTGCTTGAGCGCAGGATCCAAACTACCATCGCTTATTTTTCTCTTCGGATTTCTTCTTGACTAAGCCGGTCAGAAGTCACAGTGGTATAACTCAGACAGAGTATGTCATCTCCTAGCTCTCTTCGTGTGCTCTTGAAATATAAACGTTCGTCTTTTGTGATCACTTTGGACAGACAGCGGCCGCGCGGCTAACGATAAGCGTGAAAAGGAGCAGTTGGCCTGTTCCTCTACACAGATTGAATCGGCGCACGGATCGAATTTCGCTGGCTGATCTGCGT'\n",
    "\n",
    "str_letters=['A','G','C','T']\n",
    "\n",
    "count_dict={}\n",
    "\n",
    "for letter in str_letters:\n",
    "    count_dict[letter]=0\n",
    "    \n",
    "for letter in DNA_string:\n",
    "    count_dict[letter]+=1\n",
    "    \n",
    "print(count_dict)"
   ]
  },
  {
   "cell_type": "markdown",
   "metadata": {},
   "source": [
    "# Transcribing DNA into RNA"
   ]
  },
  {
   "cell_type": "code",
   "execution_count": 6,
   "metadata": {},
   "outputs": [
    {
     "name": "stdout",
     "output_type": "stream",
     "text": [
      "True\n"
     ]
    }
   ],
   "source": [
    "DNA_string='GATGGAACTTGACTACGTAAATT'\n",
    "\n",
    "RNA_string=''\n",
    "\n",
    "for letter in DNA_string:\n",
    "    if letter=='T':\n",
    "        RNA_string+='U'\n",
    "    else:\n",
    "        RNA_string+=letter\n",
    "\n",
    "print(RNA_string=='GAUGGAACUUGACUACGUAAAUU')"
   ]
  },
  {
   "cell_type": "markdown",
   "metadata": {},
   "source": [
    "# Reverse Complement"
   ]
  },
  {
   "cell_type": "code",
   "execution_count": 11,
   "metadata": {},
   "outputs": [
    {
     "name": "stdout",
     "output_type": "stream",
     "text": [
      "True\n"
     ]
    }
   ],
   "source": [
    "DNA_string='AAAACCCGGT'\n",
    "\n",
    "DNA_string_reversed=DNA_string[::-1]\n",
    "\n",
    "reverse_complement=''\n",
    "\n",
    "for letter in DNA_string_reversed:\n",
    "    if letter=='A':\n",
    "        reverse_complement+='T'\n",
    "    if letter=='T':\n",
    "        reverse_complement+='A'\n",
    "    if letter=='C':\n",
    "        reverse_complement+='G'\n",
    "    if letter=='G':\n",
    "        reverse_complement+='C'\n",
    "        \n",
    "print(reverse_complement=='ACCGGGTTTT')"
   ]
  }
 ],
 "metadata": {
  "kernelspec": {
   "display_name": "Python 3 (ipykernel)",
   "language": "python",
   "name": "python3"
  },
  "language_info": {
   "codemirror_mode": {
    "name": "ipython",
    "version": 3
   },
   "file_extension": ".py",
   "mimetype": "text/x-python",
   "name": "python",
   "nbconvert_exporter": "python",
   "pygments_lexer": "ipython3",
   "version": "3.9.13"
  }
 },
 "nbformat": 4,
 "nbformat_minor": 4
}
